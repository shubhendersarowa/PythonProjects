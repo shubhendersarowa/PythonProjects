{
 "cells": [
  {
   "cell_type": "code",
   "execution_count": 21,
   "metadata": {
    "colab": {
     "base_uri": "https://localhost:8080/",
     "height": 39
    },
    "colab_type": "code",
    "id": "gBVttA63rfks",
    "outputId": "60c68fe1-f352-4b97-a876-d24b56dd94f2"
   },
   "outputs": [
    {
     "data": {
      "application/vnd.google.colaboratory.intrinsic+json": {
       "type": "string"
      },
      "text/plain": [
       "'\\n\\nproject name : shinzo abe tweeter sentiments\\nauthor : @kanishksh4rma\\n\\n'"
      ]
     },
     "execution_count": 21,
     "metadata": {
      "tags": []
     },
     "output_type": "execute_result"
    }
   ],
   "source": [
    "'''\n",
    "\n",
    "project name : shinzo abe tweeter sentiments\n",
    "author : @kanishksh4rma\n",
    "\n",
    "'''"
   ]
  },
  {
   "cell_type": "code",
   "execution_count": 1,
   "metadata": {
    "colab": {},
    "colab_type": "code",
    "id": "pT4Yo_9zotkV"
   },
   "outputs": [
    {
     "name": "stdout",
     "output_type": "stream",
     "text": [
      "Collecting docx2txt\n",
      "  Downloading docx2txt-0.8.tar.gz (2.8 kB)\n",
      "  Installing build dependencies: started\n",
      "  Installing build dependencies: finished with status 'done'\n",
      "  Getting requirements to build wheel: started\n",
      "  Getting requirements to build wheel: finished with status 'done'\n",
      "  Installing backend dependencies: started\n",
      "  Installing backend dependencies: finished with status 'done'\n",
      "  Preparing metadata (pyproject.toml): started\n",
      "  Preparing metadata (pyproject.toml): finished with status 'done'\n",
      "Building wheels for collected packages: docx2txt\n",
      "  Building wheel for docx2txt (pyproject.toml): started\n",
      "  Building wheel for docx2txt (pyproject.toml): finished with status 'done'\n",
      "  Created wheel for docx2txt: filename=docx2txt-0.8-py3-none-any.whl size=3972 sha256=18b6f8755c9157f6b74d430c438736768a0f778fa7d2bc8ddc74ef3758995a41\n",
      "  Stored in directory: c:\\users\\sukhb\\appdata\\local\\pip\\cache\\wheels\\0f\\0e\\7a\\3094a4ceefe657bff7e12dd9592a9d5b6487ef4338ace0afa6\n",
      "Successfully built docx2txt\n",
      "Installing collected packages: docx2txt\n",
      "Successfully installed docx2txt-0.8\n"
     ]
    }
   ],
   "source": [
    "#intall the required library\n",
    "!pip install docx2txt\n",
    "\n",
    "import docx2txt\n",
    "import warnings\n",
    "warnings.filterwarnings('ignore')"
   ]
  },
  {
   "cell_type": "code",
   "execution_count": 9,
   "metadata": {
    "colab": {},
    "colab_type": "code",
    "id": "NqDoUjFlpHsE"
   },
   "outputs": [],
   "source": [
    "# load the data\n",
    "resume = docx2txt.process(\"E:\\Shubhender CV.docx\")\n",
    "job = docx2txt.process(\"E:\\JD.docx\")"
   ]
  },
  {
   "cell_type": "code",
   "execution_count": 3,
   "metadata": {
    "colab": {
     "base_uri": "https://localhost:8080/",
     "height": 156
    },
    "colab_type": "code",
    "id": "ciJsuAJrpZMi",
    "outputId": "d967743a-9383-4857-8ecd-4c708604d771"
   },
   "outputs": [
    {
     "data": {
      "text/plain": [
       "\"Shubhender Saroha\\n\\n7999995399 | shubhender.saroha111@gmail.com | www.linkedin.com/in/shubsaroha/\\n\\n\\n\\n\\n\\nEnergetic master’s in business and administration excelling in Data Science with Python, SQL, and Power BI, coupled with a solid foundation in data analysis. Demonstrates versatility, strong communication, and adaptability. Adept at collaborating with cross-functional teams to solve complex problems. Enthusiastic about contributing to dynamic projects and continuously enhancing expertise. Seeking a role where technical proficiency, communication skills, and a   \\n\\nflexible mindset converge\\n\\n\\n\\nEDUCATION\\n\\n\\n\\n\\t\\tMaharshi Dayanand University\\t         o8/2016-08/2018\\n\\n\\t\\t\\tStream: Masters in Business and Administration, 7.2 GPA\\n\\n\\t\\tMaharshi Dayanand University\\t         07/2013-07/2016\\n\\n\\t\\t\\tStream: Bachelors in Computer and Applications, 60.66%\\n\\n\\t\\t\\n\\n\\t\\t\\n\\nPROFESSIONAL SKILLS\\n\\n\\n\\n\\t\\t\\n\\n\\t\\tPython    \\n\\n\\t\\tMy SQL\\n\\n\\t\\tMicrosoft Power BI\\n\\n\\t\\tData Transformation                                                  \\n\\n\\t\\tData Modeling  \\n\\n\\t\\tData Mining \\n\\n\\t\\t\\n\\n\\t\\tMicrosoft Excel\\n\\n\\t\\tData Analysis\\n\\n\\t\\tPandas\\n\\n\\t\\tMachine Learning\\n\\n\\t\\tStatistics\\n\\n\\t\\t\\n\\n\\t\\t\\n\\nSOFT SKILLS \\n\\n\\n\\n\\t\\t\\n\\n\\t\\t\\tCommunication\\t\\t\\t\\n\\n\\t\\tProblem Solving\\n\\n\\t\\tMulti-Tasking\\n\\n\\t\\tTeam Management\\n\\n\\t\\tKean Learning\\n\\nCERTIFICATIONS\\n\\n\\n\\n\\t\\t\\n\\n\\t\\tData Science with Python\\n\\n\\t\\tData Analyst \\n\\n\\t\\tMy SQL\\n\\n\\t\\tPower BI\\n\\nINTERNSHIP\\n\\n\\n\\n\\t\\tFeynn Labs \\t         12/2023-present\\n\\n\\t\\tMachine Learning\\n\\n\\tObtain basic knowledge as data science using Python, Machine learning Algorithms.\\n\\n\\tDevelop Model of Machine learning for Customer Choice Analysis and Market Basket Analysis for increasing sales of Grocery Store and Small Shopping Mart.\\n\\n\\tExcelled in Machine Learning algorithms and data science course work.\\n\\n\\t\\t\\n\\n\\t\\tBesant Technology\\t         12/2023\\n\\n\\t\\tData Science\\n\\n\\tObtain basic knowledge as data science using SQL, Power BI , Python , Machine learning\\n\\n\\tAlgorithms and Microsoft Excel\\n\\n\\tDeveloped Power BI dashboards, visualizations and created multi page reports\\n\\n\\tDo Analysis of HR data sets, Modeling of Data, Mining , Transformation of Data.\\n\\n\\n\\n\\n\\nPREVIOUS EXPERIENCE \\n\\n\\n\\n\\t\\tUjjivan Small Finance Bank, Jind\\t         11/2019-09/2022\\n\\n\\t\\tRole /Key Responsibilities:  ACRM\\n\\n\\tTeam Management of 5 Staff Members \\n\\n\\tBranch Operational Work Supervision \\n\\n\\tSales and Team members Data analysis to achieve Target.\\n\\n\\n\\nPROJECTS \\n\\n\\n\\n\\t\\tLink - https://github.com/shubhendersarowa\\n\\n\\t\\tSuper store sales dashboard\\t07/2023\\n\\n\\tAuthored and published Power BI reports\\n\\n\\tCoordinated extraction of SQL server data to Power BI and configure data connections.\\n\\n\\tTransformed complex datasets into intuitive interactive dashboards. \\n\\n\\t\\t\\n\\n\\t\\tMusical store Analysis    \\t08/2023\\n\\n\\tDesigning and implementing a comprehensive database solution for a musical store \\n\\n\\tInvolved data modeling, ETL processes, and SQL querying to optimize.   \\n\\n\\tinventory management, sales forecasting, and customer and sales analytics\\n\\n\\t\\n\\n\\t\\tRoad accident Analysis    \\t10/2023\\n\\n\\tRequirement gathering, data cleaning, processing, analysis and dashboard creation in Excel. \\n\\n\\tData cleaning, Data processing and Data Visualization using MS Excel \\n\\n\\tCreated interactive dashboard.\\n\\n\\t\\n\\n\\t\\tExploratory Data Analysis (EDA)\\t11/2023\\n\\n\\tUsing Python and pandas, exploratory data analysis (EDA) on different datasets\\n\\n\\tAnalyzing and summarizing the data's salient characteristics in order to get \\n\\n\\tUnderstanding and spot anomalies on large dataset\\n\\n\\tDerived observation by importing from libraries like matplotlib and seaborn.\\n\\n\\t\\t\\n\\n\\t\\tBangalore Flat Price Prediction \\t11/2023\\n\\n\\tUsing Python Machine Learning Algorithms make an model for Flat price prediction \\n\\n\\tAnalyzing and cleansing of data for better working of model\\n\\n\\tPerform Data mining, Data transformation , Data Modeling using Pandas\""
      ]
     },
     "execution_count": 3,
     "metadata": {},
     "output_type": "execute_result"
    }
   ],
   "source": [
    "# printing the resume\n",
    "resume"
   ]
  },
  {
   "cell_type": "code",
   "execution_count": 4,
   "metadata": {
    "colab": {
     "base_uri": "https://localhost:8080/",
     "height": 156
    },
    "colab_type": "code",
    "id": "bo7IIqkxpap7",
    "outputId": "fec3c761-1527-44e5-8a59-7ce2183d795f"
   },
   "outputs": [
    {
     "data": {
      "text/plain": [
       "\"A leading AI client in the United States is recruiting Python Developers\\n\\nAs a Python developer, your essential role includes reviewing peers' code, providing constructive feedback, and collaborating with the research team to align with the company's vision.\\n\\nYour Role:\\n\\nDevelop Python scripts to solve complex challenges.\\n\\nCommunicate regularly with the research team for updates.\\n\\nDocument your coding approach and problem-solving strategies.\\n\\nIdentify coding errors and draft solutions.\\n\\nEnsure crystal-clear communication with team members for accurate results.\\n\\nYour Qualifications:\\n\\nEngineering or Computer Science degree, or equivalent practical experience.\\n\\n3+ years of experience in data science.\\n\\n2+ years hands-on experience with data analysis.\\n\\nProficient in Python, with at least 2 years' experience.\\n\\nStrong understanding of data science applications.\\n\\nEffective in English communication.\\n\\nSQL and database experience.\\n\\nPerks of Joining Us:\\n\\nWork alongside top minds and pioneers from around the world, creating a wide-reaching network that matches your dreams\\n\\nThis isn't just any role; it's ideal for those who love to work from anywhere, with the freedom to choose your workplace.\\n\\nReceive an attractive compensation package in USD that aligns with international benchmarks\\n\\nBe a part of cutting-edge projects that reshape technology, keeping you at the forefront of industry advancements.\\n\\nGive your career a rapid boost by taking and passing tests and MCQs, which can help you grab a spot on the team of innovators. This is your chance to be a key player in this mission and shake up the technology scene.\""
      ]
     },
     "execution_count": 4,
     "metadata": {},
     "output_type": "execute_result"
    }
   ],
   "source": [
    "#print the job description\n",
    "job"
   ]
  },
  {
   "cell_type": "code",
   "execution_count": 10,
   "metadata": {
    "colab": {},
    "colab_type": "code",
    "id": "jg8sSwoopb9Q"
   },
   "outputs": [],
   "source": [
    "# a list of text\n",
    "\n",
    "text = [resume,job]"
   ]
  },
  {
   "cell_type": "code",
   "execution_count": 11,
   "metadata": {
    "colab": {},
    "colab_type": "code",
    "id": "yuZ3dpn7piP3"
   },
   "outputs": [],
   "source": [
    "from sklearn.feature_extraction.text import CountVectorizer\n",
    "\n",
    "cv = CountVectorizer()\n",
    "count_matrix = cv.fit_transform(text)"
   ]
  },
  {
   "cell_type": "code",
   "execution_count": 12,
   "metadata": {
    "colab": {
     "base_uri": "https://localhost:8080/",
     "height": 56
    },
    "colab_type": "code",
    "id": "QbjBzHu7ptPN",
    "outputId": "5661ebf7-537e-44f8-83f7-cbf2be75c381"
   },
   "outputs": [
    {
     "name": "stdout",
     "output_type": "stream",
     "text": [
      "Similarity score :  [[1.         0.64219564]\n",
      " [0.64219564 1.        ]]\n"
     ]
    }
   ],
   "source": [
    "# import cosine similarity \n",
    "\n",
    "from sklearn.metrics.pairwise import cosine_similarity\n",
    "\n",
    "#print similarity score\n",
    "\n",
    "print('Similarity score : ',cosine_similarity(count_matrix))"
   ]
  },
  {
   "cell_type": "code",
   "execution_count": 8,
   "metadata": {
    "colab": {
     "base_uri": "https://localhost:8080/",
     "height": 36
    },
    "colab_type": "code",
    "id": "tM68SAs1qB7G",
    "outputId": "35941908-9485-44bd-a884-1b6488975d61"
   },
   "outputs": [
    {
     "name": "stdout",
     "output_type": "stream",
     "text": [
      "Your Resume 44.81 % match to the job description !\n"
     ]
    }
   ],
   "source": [
    "# get the percentage\n",
    "matchpercentage = cosine_similarity(count_matrix)[0][1]\n",
    "matchpercentage = round(matchpercentage*100,2)\n",
    "print('Your Resume {} % match to the job description !'.format(matchpercentage))"
   ]
  },
  {
   "cell_type": "code",
   "execution_count": null,
   "metadata": {},
   "outputs": [],
   "source": []
  }
 ],
 "metadata": {
  "colab": {
   "collapsed_sections": [],
   "name": "Resume_Scanner_for_Job_Description.ipynb",
   "provenance": []
  },
  "kernelspec": {
   "display_name": "Python 3 (ipykernel)",
   "language": "python",
   "name": "python3"
  },
  "language_info": {
   "codemirror_mode": {
    "name": "ipython",
    "version": 3
   },
   "file_extension": ".py",
   "mimetype": "text/x-python",
   "name": "python",
   "nbconvert_exporter": "python",
   "pygments_lexer": "ipython3",
   "version": "3.11.7"
  }
 },
 "nbformat": 4,
 "nbformat_minor": 4
}
